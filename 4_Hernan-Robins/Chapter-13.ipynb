{
 "cells": [
  {
   "cell_type": "markdown",
   "metadata": {},
   "source": [
    "# Chapter 13: Standardization and the Parametric G-Formula\n",
    "This notebook goes through Chapter 13 of “Hernán MA, Robins JM (2019). Causal Inference. Boca Raton: Chapman & Hall/CRC, forthcoming”, which details the use of the parametric g-formula for causal inference using models. Within this notebook, I will use *zEpid* to recreate the analyses detailed in chapter 13. As an introduction to causal inference and the associated methods, I highly recommend reviewing this book, which the preprint is available for free at: https://www.hsph.harvard.edu/miguel-hernan/causal-inference-book/\n",
    "\n",
    "### Data Preparation\n",
    "Data comes from the National Health and Nutrition Examination Survey Data I Epidemiologic\n",
    "Follow-up Study (NHEFS). The NHEFS was jointly initiated by the National Center for Health Statistics and the\n",
    "National Institute on Aging in collaboration with other agencies of the United States Public Health Service. A\n",
    "detailed description of the NHEFS, together with publicly available data sets and documentation, can be found at\n",
    "wwwn.cdc.gov/nchs/nhanes/nhefs/ \n",
    "\n",
    "The data set used in the book and this tutorial is a subset of the full NHEFS. First, we will load the data and run some basic variable manipulations. We are interested in estimating the average causal effect ($E[Y^{a=1}] - E[Y^{a=0}]$) of stopping smoking (`qsmk`) on 10-year weight change (`wt82_71`). See Fine Point 12.2 for details on problems with this example (specifically, there is selection bias induced by how our treatment variable is defined)"
   ]
  },
  {
   "cell_type": "code",
   "execution_count": 1,
   "metadata": {},
   "outputs": [],
   "source": [
    "%matplotlib inline\n",
    "\n",
    "import numpy as np\n",
    "import pandas as pd\n",
    "import statsmodels.api as sm\n",
    "import statsmodels.formula.api as smf\n",
    "import matplotlib.pyplot as plt\n",
    "\n",
    "from zepid.causal.gformula import TimeFixedGFormula\n",
    "\n",
    "df = pd.read_csv('Data/nhefs.csv')\n",
    "df.dropna(subset=['sex', 'age', 'race', 'wt82', 'ht', \n",
    "                  'school', 'alcoholpy', 'smokeintensity'], \n",
    "         inplace=True)\n",
    "\n",
    "# Subsetting only variables of interest\n",
    "df = df[['wt82_71', 'qsmk', 'sex', 'age', 'race', 'wt71', 'wt82', 'ht', \n",
    "         'school', 'alcoholpy', 'smokeintensity', 'smokeyrs', \n",
    "         'education', 'exercise', 'active', 'death']]\n",
    "\n",
    "# recoding some variables\n",
    "df['inactive'] = np.where(df['active'] == 2, 1, 0)\n",
    "df['no_exercise'] = np.where(df['exercise'] == 2, 1, 0)\n",
    "df['university'] = np.where(df['education'] == 5, 1, 0)\n",
    "\n",
    "# creating quadratic terms\n",
    "for col in ['age', 'wt71', 'smokeintensity', 'smokeyrs']:\n",
    "    df[col+'_sq'] = df[col] * df[col]\n"
   ]
  },
  {
   "cell_type": "markdown",
   "metadata": {},
   "source": [
    "## Section 13.3\n",
    "To estimate the causal effect of quitting smoking on weight change (in kg), we will use the parametric g-formula. Specifically, we will assume $Y^a \\amalg A|L$, where $L$ includes sex, race, age, education, smoking duration, smoking intensity, exercise, recreational activity, and baseline weight. We can express the g-formula as\n",
    "$$ \\hat{E}[Y^a] = \\hat{E}\\left[\\hat{E}[Y|A=a,L]\\right]$$\n",
    "where the outer expectation marginalizes over the distribution of $L$\n",
    "\n",
    "To estimate $\\hat{E}[Y^a]$, we can use `TimeFixedGFormula` in *zEpid*. We will initialize `TimeFixedGFormula` with the data set (`df`), treatment (`qsmk`), and we will specify the optional argument `outcome_type` to model the outcome using linear regression. \n",
    "\n",
    "One advantage of the R approach to fitting models is that we can use `patsy` magic. Specifically, we will avoid creating indicator (dummy) variables for our categorical variables. Instead we will use `C(...)`, which tells patsy we want that variable to be a categorical variables. We will do this for `active` and `exercise`. Additionally, we can easily incorporate interactions between our variables (without having to manually code them). For an interaction between a column `A` and `B`, we would use `A:B` in the model statement"
   ]
  },
  {
   "cell_type": "code",
   "execution_count": 2,
   "metadata": {},
   "outputs": [],
   "source": [
    "tfgf = TimeFixedGFormula(df, exposure='qsmk', outcome='wt82_71', outcome_type='normal')\n",
    "tfgf.outcome_model('qsmk + sex + race + age + age_sq + C(education) + smokeintensity + ' + \n",
    "                   'smokeintensity_sq + smokeyrs + smokeyrs_sq + C(exercise) + ' + \n",
    "                   'C(active) + wt71 + wt71_sq', \n",
    "                   print_results=False)\n",
    "\n",
    "# Estimating effect under treat-all\n",
    "tfgf.fit(treatment='all')\n",
    "rall = tfgf.marginal_outcome\n",
    "\n",
    "# Estimating effect under treat-none\n",
    "tfgf.fit(treatment='none')\n",
    "nall = tfgf.marginal_outcome"
   ]
  },
  {
   "cell_type": "code",
   "execution_count": 3,
   "metadata": {},
   "outputs": [],
   "source": [
    "# Bootstrapping confidence intervals\n",
    "ests = []\n",
    "for i in range(200):\n",
    "    dfs = df.sample(n=df.shape[0], replace=True)\n",
    "    tfgf = TimeFixedGFormula(dfs, exposure='qsmk', outcome='wt82_71', outcome_type='normal')\n",
    "    tfgf.outcome_model('qsmk + sex + race + age + age_sq + C(education) + smokeintensity + ' + \n",
    "                       'smokeintensity_sq + smokeyrs + smokeyrs_sq + C(exercise) + ' + \n",
    "                       'C(active) + wt71 + wt71_sq', \n",
    "                       print_results=False)\n",
    "    tfgf.fit(treatment='all')\n",
    "    rall_b = tfgf.marginal_outcome\n",
    "    tfgf.fit(treatment='none')\n",
    "    nall_b = tfgf.marginal_outcome\n",
    "    ests.append(rall_b - nall_b)\n",
    "\n",
    "se = np.std(ests)\n",
    "lcl = (rall - nall) - 1.96*se\n",
    "ucl = (rall - nall) + 1.96*se"
   ]
  },
  {
   "cell_type": "code",
   "execution_count": 4,
   "metadata": {},
   "outputs": [
    {
     "name": "stdout",
     "output_type": "stream",
     "text": [
      "Average Causal Effect\n",
      "--------------------------------------\n",
      "E[Y|A=1] - E[Y|A=0] =  3.46\n",
      "95% CL: 2.56, 4.36\n",
      "--------------------------------------\n"
     ]
    }
   ],
   "source": [
    "print('Average Causal Effect')\n",
    "print('--------------------------------------')\n",
    "print('E[Y|A=1] - E[Y|A=0] = ', np.round(rall - nall, 2))\n",
    "print('95% CL: '+str(np.round(lcl, 2))+', '+str(np.round(ucl, 2)))\n",
    "print('--------------------------------------')"
   ]
  },
  {
   "cell_type": "markdown",
   "metadata": {},
   "source": [
    "We obtain a similar result to the book. The confidence intervals differ slightly due to the random error of the bootstrap procedure.\n",
    "\n",
    "## Conclusion\n",
    "That concludes chapter 13 of \"Causal Inference\" by Hernan and Robins. Please review the other tutorials on this site for more details and features of `TimeFixedGFormula`. In the next tutorial, we will go through g-estimation of structural nested models"
   ]
  }
 ],
 "metadata": {
  "kernelspec": {
   "display_name": "Python 3",
   "language": "python",
   "name": "python3"
  },
  "language_info": {
   "codemirror_mode": {
    "name": "ipython",
    "version": 3
   },
   "file_extension": ".py",
   "mimetype": "text/x-python",
   "name": "python",
   "nbconvert_exporter": "python",
   "pygments_lexer": "ipython3",
   "version": "3.6.5"
  }
 },
 "nbformat": 4,
 "nbformat_minor": 2
}
