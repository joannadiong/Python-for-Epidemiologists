{
 "cells": [
  {
   "cell_type": "markdown",
   "metadata": {},
   "source": [
    "# Chapter 14: G-estimation of Structural Nested Models\n",
    "This notebook goes through Chapter 13 of “Hernán MA, Robins JM (2019). Causal Inference. Boca Raton: Chapman & Hall/CRC, forthcoming”, which details g-estimation of strucutural nested models. Within this notebook, I will use zEpid to recreate the analyses detailed in chapter 14. As an introduction to causal inference and the associated methods, I highly recommend reviewing this book, which the preprint is available for free at: https://www.hsph.harvard.edu/miguel-hernan/causal-inference-book/\n",
    "\n",
    "## Data Preparation\n",
    "Data comes from the National Health and Nutrition Examination Survey Data I Epidemiologic Follow-up Study (NHEFS). The NHEFS was jointly initiated by the National Center for Health Statistics and the National Institute on Aging in collaboration with other agencies of the United States Public Health Service. A detailed description of the NHEFS, together with publicly available data sets and documentation, can be found at wwwn.cdc.gov/nchs/nhanes/nhefs/\n",
    "\n",
    "The data set used in the book and this tutorial is a subset of the full NHEFS. First, we will load the data and run some basic variable manipulations."
   ]
  },
  {
   "cell_type": "code",
   "execution_count": 1,
   "metadata": {},
   "outputs": [],
   "source": [
    "import numpy as np\n",
    "import pandas as pd\n",
    "import matplotlib.pyplot as plt\n",
    "\n",
    "from zepid.causal.snm import GEstimationSNM\n",
    "\n",
    "df = pd.read_csv('Data/nhefs.csv')\n",
    "\n",
    "# recoding some variables\n",
    "df['inactive'] = np.where(df['active'] == 2, 1, 0)\n",
    "df['no_exercise'] = np.where(df['exercise'] == 2, 1, 0)\n",
    "df['university'] = np.where(df['education'] == 5, 1, 0)\n",
    "\n",
    "df = df[['death', 'qsmk', 'sex', 'race', 'age', 'education',\n",
    "         'smokeintensity', 'smokeyrs', 'exercise', 'active', 'wt71', 'wt82_71']]\n",
    "df['age_sq'] = df['age']**2\n",
    "df['smkyr_sq'] = df['smokeyrs']**2\n",
    "df['wt71_sq'] = df['wt71']**2\n",
    "df['smkint_sq'] = df['smokeintensity']**2\n",
    "\n",
    "# Treatment model\n",
    "pi_model = ('sex + race + age + age_sq + C(education) + smokeyrs + smkyr_sq + '\n",
    "            'C(exercise) + C(active) + wt71 + wt71_sq + smokeintensity + smkint_sq')\n",
    "# Missing outcome data model\n",
    "m_model = ('qsmk + sex + race + age + age_sq + C(education) + smokeyrs + smkyr_sq + '\n",
    "           'C(exercise) + C(active) + wt71 + wt71_sq + smokeintensity + smkint_sq')"
   ]
  },
  {
   "cell_type": "markdown",
   "metadata": {},
   "source": [
    "As described in the book, to deal with missing data inverse probability of censoring weights should be used. `GEstimationSNM` allows for automatic calculation of inverse probability of censoring weights through the `missing_model()` function. We will use this to account for missing outcome data\n",
    "\n",
    "## Section 14.5\n",
    "We will now estimate the following structural nested mean model\n",
    "$$E[Y^a - Y^{a=0} | A=a, L] = \\psi a$$\n",
    "We will diverge slightly from the book. In the book, they first demonstrate an inefficient method to solve for $\\psi$. `GEstimationSNM` has two options available; grid-search and closed-form solution. Both produce the same results, but the closed form solution is much faster. \n",
    "\n",
    "The grid-search approach uses the Nelder-Mead algorithm. Since we are not searching the entire space, we cannot get confidence intervals directly from our grid-search. Instead we will use a nonparametric bootstrap. \n",
    "\n",
    "### Grid-Search\n",
    "The following code uses the grid-search approach"
   ]
  },
  {
   "cell_type": "code",
   "execution_count": 2,
   "metadata": {},
   "outputs": [
    {
     "name": "stdout",
     "output_type": "stream",
     "text": [
      "======================================================================\n",
      "           G-estimation of Structural Nested Mean Model               \n",
      "======================================================================\n",
      "Treatment:        qsmk                   No. Observations:     1629      \n",
      "Outcome:          wt82_71                No. Missing Outcome:  63        \n",
      "Missing model:    Logistic       \n",
      "Method:           Nelder-Mead              No. Iterations:   38        \n",
      "Alpha values:     0                        Optimized:        True      \n",
      "----------------------------------------------------------------------\n",
      "SNM:     psi*qsmk\n",
      "----------------------------------------------------------------------\n",
      "qsmk                      3.4459                        \n",
      "======================================================================\n"
     ]
    }
   ],
   "source": [
    "# Initializing G-estimation \n",
    "snm = GEstimationSNM(df, exposure='qsmk', outcome='wt82_71')\n",
    "\n",
    "# Specifying Pr(A=1|L) model\n",
    "snm.exposure_model(model=pi_model, print_results=False)\n",
    "\n",
    "# Specifying censoring model\n",
    "snm.missing_model(m_model, stabilized=False, print_results=False)\n",
    "\n",
    "# Specifying SNM\n",
    "snm.structural_nested_model(model='qsmk')\n",
    "\n",
    "# Grid-search solution\n",
    "snm.fit(solver='search')\n",
    "snm.summary(decimal=4)"
   ]
  },
  {
   "cell_type": "markdown",
   "metadata": {},
   "source": [
    "This is the same answer as detailed in the book. You can also compare to the code available at: https://github.com/jrfiedler/causal_inference_python_code/blob/master/chapter14.ipynb My procedure runs a little faster then the notebook. I did not run the confidence interval procedure for this because it would take longer than necessary. For confidence intervals, the closed-form solution is much faster\n",
    "\n",
    "## Section 14.6\n",
    "We will now use the closed form solution for the g-estimation procedure. Below is code"
   ]
  },
  {
   "cell_type": "code",
   "execution_count": 3,
   "metadata": {},
   "outputs": [
    {
     "name": "stdout",
     "output_type": "stream",
     "text": [
      "======================================================================\n",
      "           G-estimation of Structural Nested Mean Model               \n",
      "======================================================================\n",
      "Treatment:        qsmk                   No. Observations:     1629      \n",
      "Outcome:          wt82_71                No. Missing Outcome:  63        \n",
      "Missing model:    Logistic       \n",
      "Method:           Closed-form\n",
      "----------------------------------------------------------------------\n",
      "SNM:     psi*qsmk\n",
      "----------------------------------------------------------------------\n",
      "qsmk                      3.4459                        \n",
      "======================================================================\n"
     ]
    }
   ],
   "source": [
    "# Initializing G-estimation \n",
    "snm = GEstimationSNM(df, exposure='qsmk', outcome='wt82_71')\n",
    "snm.exposure_model(model=pi_model, print_results=False)\n",
    "snm.structural_nested_model(model='qsmk')\n",
    "snm.missing_model(m_model, stabilized=False, print_results=False)\n",
    "snm.fit(solver='closed')\n",
    "snm.summary(decimal=4)"
   ]
  },
  {
   "cell_type": "markdown",
   "metadata": {},
   "source": [
    "### Two-parameter Structural Nested Models\n",
    "We will now expand our structural nested model to include a term between `qsmk` and `smokeintensity`. Our SNM will look like\n",
    "$$E[Y^a - Y^{a=0} | A=a, L] = \\psi a + \\psi a V$$\n",
    "where $V$ is smoking intensity."
   ]
  },
  {
   "cell_type": "code",
   "execution_count": 4,
   "metadata": {},
   "outputs": [
    {
     "name": "stdout",
     "output_type": "stream",
     "text": [
      "======================================================================\n",
      "           G-estimation of Structural Nested Mean Model               \n",
      "======================================================================\n",
      "Treatment:        qsmk                   No. Observations:     1629      \n",
      "Outcome:          wt82_71                No. Missing Outcome:  63        \n",
      "Missing model:    Logistic       \n",
      "Method:           Closed-form\n",
      "----------------------------------------------------------------------\n",
      "SNM:     psi*qsmk + psi*qsmk:smokeintensity\n",
      "----------------------------------------------------------------------\n",
      "qsmk                      2.85947                       \n",
      "qsmk:smokeintensity       0.03004                       \n",
      "======================================================================\n"
     ]
    }
   ],
   "source": [
    "# Initializing G-estimation \n",
    "snm = GEstimationSNM(df, exposure='qsmk', outcome='wt82_71')\n",
    "snm.exposure_model(model=pi_model, print_results=False)\n",
    "snm.missing_model(m_model, stabilized=False, print_results=False)\n",
    "snm.structural_nested_model(model='qsmk + qsmk:smokeintensity')\n",
    "snm.fit(solver='closed')\n",
    "snm.summary(decimal=5)"
   ]
  },
  {
   "cell_type": "code",
   "execution_count": 5,
   "metadata": {},
   "outputs": [
    {
     "name": "stdout",
     "output_type": "stream",
     "text": [
      "======================================================================\n",
      "           G-estimation of Structural Nested Mean Model               \n",
      "======================================================================\n",
      "Treatment:        qsmk                   No. Observations:     1629      \n",
      "Outcome:          wt82_71                No. Missing Outcome:  63        \n",
      "Missing model:    Logistic       \n",
      "Method:           Nelder-Mead              No. Iterations:   144       \n",
      "Alpha values:     0                        Optimized:        True      \n",
      "----------------------------------------------------------------------\n",
      "SNM:     psi*qsmk + psi*qsmk:smokeintensity\n",
      "----------------------------------------------------------------------\n",
      "qsmk                      2.85947                       \n",
      "qsmk:smokeintensity       0.03004                       \n",
      "======================================================================\n"
     ]
    }
   ],
   "source": [
    "# Initializing G-estimation \n",
    "snm = GEstimationSNM(df, exposure='qsmk', outcome='wt82_71')\n",
    "snm.exposure_model(model=pi_model, print_results=False)\n",
    "snm.missing_model(m_model, stabilized=False, print_results=False)\n",
    "snm.structural_nested_model(model='qsmk + qsmk:smokeintensity')\n",
    "snm.fit(solver='search')\n",
    "snm.summary(decimal=5)"
   ]
  },
  {
   "cell_type": "markdown",
   "metadata": {},
   "source": [
    "Both approaches provide the same answer, but the grid-search takes longer. This is because we are manually searching over a grid of potential values. The Nelder-Mead search is good but can take a time to solve, since we don't provide any derivatives. So, the question is why would you ever use the grid-search approach? \n",
    "\n",
    "## Fine Point 14.2\n",
    "Hernan and Robins mention some interesting sensitivity analyses for g-estimation with unmeasured confounding. Specifically, they state \"G-estimation relies on the fact ... conditional exchangeability given $L$ holds. Now consider a setting in which conditional exchangeability does not hold. ... But g-estimation does not require that $\\alpha = 0$.\" Essentially, we can place a bound on the magnitude of nonexchangeability. For example, we can imagine the magnitude of nonexchangeability is $\\alpha = 0.1$. Instead of minimizing for $\\alpha = 0$, we instead minimize $\\alpha = 0.1$. \n",
    "\n",
    "Returning to the question of why you would use the grid-search approach, only the grid-search approach allows for this change in $\\alpha$ sensitivity analysis currently. Using the numbers from the book, we will conduct a sensitivity analysis where $\\alpha = 0.1$. We will do this for the one-parameter SNM"
   ]
  },
  {
   "cell_type": "code",
   "execution_count": 6,
   "metadata": {},
   "outputs": [
    {
     "name": "stdout",
     "output_type": "stream",
     "text": [
      "======================================================================\n",
      "           G-estimation of Structural Nested Mean Model               \n",
      "======================================================================\n",
      "Treatment:        qsmk                   No. Observations:     1629      \n",
      "Outcome:          wt82_71                No. Missing Outcome:  63        \n",
      "Missing model:    Logistic       \n",
      "Method:           Nelder-Mead              No. Iterations:   37        \n",
      "Alpha values:     0.1                      Optimized:        True      \n",
      "----------------------------------------------------------------------\n",
      "SNM:     psi*qsmk\n",
      "----------------------------------------------------------------------\n",
      "qsmk                      -1.95224                      \n",
      "======================================================================\n"
     ]
    }
   ],
   "source": [
    "# Initializing G-estimation \n",
    "snm = GEstimationSNM(df, exposure='qsmk', outcome='wt82_71')\n",
    "snm.exposure_model(model=pi_model, print_results=False)\n",
    "snm.missing_model(m_model, stabilized=False, print_results=False)\n",
    "snm.structural_nested_model(model='qsmk')\n",
    "\n",
    "# Search solution\n",
    "snm.fit(solver='search',\n",
    "        alpha_value=0.1)  # Sensitivity analysis \n",
    "snm.summary(decimal=5)"
   ]
  },
  {
   "cell_type": "markdown",
   "metadata": {},
   "source": [
    "If $\\alpha = 0.1$ is reasonable for the unmeasured confounding magnitude, this result suggests our results are quite sensitive to unmeasured confounding of this magnitude.\n",
    "\n",
    "## Conclusion\n",
    "That concludes chapter 14 of \"Cuasal Inference\" by Hernan and Robins. Please review the other tutorials on this site for more details and features of `GEstimationSNM`. In the next tutorial, we will go through causal survival analysis"
   ]
  }
 ],
 "metadata": {
  "kernelspec": {
   "display_name": "Python 3",
   "language": "python",
   "name": "python3"
  },
  "language_info": {
   "codemirror_mode": {
    "name": "ipython",
    "version": 3
   },
   "file_extension": ".py",
   "mimetype": "text/x-python",
   "name": "python",
   "nbconvert_exporter": "python",
   "pygments_lexer": "ipython3",
   "version": "3.6.5"
  }
 },
 "nbformat": 4,
 "nbformat_minor": 2
}
