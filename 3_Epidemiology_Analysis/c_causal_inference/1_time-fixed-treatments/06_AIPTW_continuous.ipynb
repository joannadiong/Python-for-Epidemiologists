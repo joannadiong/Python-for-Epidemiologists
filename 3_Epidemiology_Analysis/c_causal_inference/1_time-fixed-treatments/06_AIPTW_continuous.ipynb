{
 "cells": [
  {
   "cell_type": "markdown",
   "metadata": {},
   "source": [
    "# Augmented Inverse Probability of Treatment Weights\n",
    "In the last tutorial, use used the AIPTW estimator to calculate the average treatment effect for a binary outcome. In this tutorial, we will instead calculate the average treatment effect for a continuous outcome.\n",
    "\n",
    "## AIPTW\n",
    "\n",
    "As a reminder, AIPTW takes the following form\n",
    "$$E[Y^a] = \\frac{1}{n} \\sum_i^n \\left(\\frac{Y \\times I(A=a)}{\\widehat{\\Pr}(A=a|L)} - \\frac{\\hat{E}[Y|A=a, L] \\times (I(A=a) - \\widehat{\\Pr}(A=a|L))}{1 - \\widehat{\\Pr}(A=a|L)}\\right)$$\n",
    "where $\\widehat{\\Pr}(A=a|L)$ comes from the IPTW model and $\\hat{E}[Y|A=a,L]$ comes from the g-formula\n",
    "\n",
    "## Continuous Outcome example\n",
    "To motivate our example, we will use a simulated data set included with *zEpid*. In the data set, we have a cohort of HIV-positive individuals. We are interested in the sample average treatment effect of antiretroviral therapy (ART) on CD4 T-cell count at 45-weeks. We will ignore competing risks and their implications in this example. Based on substantive background knowledge, we believe that the treated and untreated population are exchangeable based gender, age, baseline CD4 T-cell count, and detectable viral load. "
   ]
  },
  {
   "cell_type": "code",
   "execution_count": 1,
   "metadata": {},
   "outputs": [
    {
     "name": "stdout",
     "output_type": "stream",
     "text": [
      "0.9.0\n"
     ]
    }
   ],
   "source": [
    "import numpy as np\n",
    "import pandas as pd\n",
    "\n",
    "import zepid\n",
    "from zepid import load_sample_data, spline\n",
    "from zepid.causal.doublyrobust import AIPTW\n",
    "\n",
    "print(zepid.__version__)"
   ]
  },
  {
   "cell_type": "code",
   "execution_count": 2,
   "metadata": {},
   "outputs": [
    {
     "name": "stdout",
     "output_type": "stream",
     "text": [
      "<class 'pandas.core.frame.DataFrame'>\n",
      "Int64Index: 547 entries, 0 to 546\n",
      "Data columns (total 12 columns):\n",
      " #   Column    Non-Null Count  Dtype  \n",
      "---  ------    --------------  -----  \n",
      " 0   id        547 non-null    int64  \n",
      " 1   male      547 non-null    int64  \n",
      " 2   age0      547 non-null    int64  \n",
      " 3   cd40      547 non-null    int64  \n",
      " 4   dvl0      547 non-null    int64  \n",
      " 5   art       547 non-null    int64  \n",
      " 6   t         547 non-null    float64\n",
      " 7   cd4_wk45  460 non-null    float64\n",
      " 8   age_rs1   547 non-null    float64\n",
      " 9   age_rs2   547 non-null    float64\n",
      " 10  cd4_rs1   547 non-null    float64\n",
      " 11  cd4_rs2   547 non-null    float64\n",
      "dtypes: float64(6), int64(6)\n",
      "memory usage: 55.6 KB\n"
     ]
    }
   ],
   "source": [
    "df = load_sample_data(False)\n",
    "df[['age_rs1', 'age_rs2']] = spline(df, 'age0', n_knots=3, term=2, restricted=True)\n",
    "df[['cd4_rs1', 'cd4_rs2']] = spline(df, 'cd40', n_knots=3, term=2, restricted=True)\n",
    "\n",
    "df = df.drop(columns=['dead'])\n",
    "df.info()"
   ]
  },
  {
   "cell_type": "markdown",
   "metadata": {},
   "source": [
    "Our data is now ready to conduct a complete case analysis using AIPTW. First, we initialize AIPTW with our complete-case data (`dfcc`), the treatment (`art`), and the outcome (`cd4_wk45`). In the background, `AIPTW` will automatically recognize that `cd4_wk45` is not a binary variable and will consider it as a continuous outcome"
   ]
  },
  {
   "cell_type": "code",
   "execution_count": 3,
   "metadata": {},
   "outputs": [],
   "source": [
    "aipw = AIPTW(df, exposure='art', outcome='cd4_wk45')"
   ]
  },
  {
   "cell_type": "markdown",
   "metadata": {},
   "source": [
    "We now repeat the process of fitting the treatment model and outcome models, then estimate the average treatment effect."
   ]
  },
  {
   "cell_type": "code",
   "execution_count": 4,
   "metadata": {},
   "outputs": [
    {
     "name": "stdout",
     "output_type": "stream",
     "text": [
      "======================================================================\n",
      "          Augmented Inverse Probability of Treatment Weights          \n",
      "======================================================================\n",
      "Treatment:        art             No. Observations:     547                 \n",
      "Outcome:          cd4_wk45        No. Missing Outcome:  87                  \n",
      "g-Model:          Logistic        Missing Model:        None                \n",
      "Q-Model:          gaussian       \n",
      "======================================================================\n",
      "Average Treatment Effect:    215.113\n",
      "95.0% two-sided CI: (111.877 , 318.35)\n",
      "======================================================================\n"
     ]
    },
    {
     "name": "stderr",
     "output_type": "stream",
     "text": [
      "/home/pzivich/Documents/open-source/zEpid/zepid/causal/doublyrobust/AIPW.py:400: UserWarning: All missing outcome data is assumed to be missing completely at random. To relax this assumption to outcome data is missing at random please use the `missing_model()` function\n",
      "  \"function\", UserWarning)\n"
     ]
    }
   ],
   "source": [
    "aipw.exposure_model('male + age0 + age_rs1 + age_rs2 + cd40 + cd4_rs1 + cd4_rs2 + dvl0', \n",
    "                    print_results=False)\n",
    "aipw.outcome_model('art + male + age0 + age_rs1 + age_rs2 + cd40 + cd4_rs1 + cd4_rs2 + dvl0', \n",
    "                   print_results=False)\n",
    "aipw.fit()\n",
    "aipw.summary()"
   ]
  },
  {
   "cell_type": "markdown",
   "metadata": {},
   "source": [
    "Our results indicate that ART increased CD4 T-cell count by week 45. This results are similar to the other methods.\n",
    "\n",
    "## Poisson Distribution\n",
    "While the default of `AIPTW` is to assume the outcome follows a normal distribution and uses ordinary least squares to estimate the effect, we can also specify to use Poisson regression. To do that, we specify `continuous_distribution='poisson'` in the `outcome_model()` function. Let's look at an example"
   ]
  },
  {
   "cell_type": "code",
   "execution_count": 5,
   "metadata": {},
   "outputs": [
    {
     "name": "stdout",
     "output_type": "stream",
     "text": [
      "======================================================================\n",
      "          Augmented Inverse Probability of Treatment Weights          \n",
      "======================================================================\n",
      "Treatment:        art             No. Observations:     547                 \n",
      "Outcome:          cd4_wk45        No. Missing Outcome:  87                  \n",
      "g-Model:          Logistic        Missing Model:        None                \n",
      "Q-Model:          poisson        \n",
      "======================================================================\n",
      "Average Treatment Effect:    215.878\n",
      "95.0% two-sided CI: (112.763 , 318.993)\n",
      "======================================================================\n"
     ]
    },
    {
     "name": "stderr",
     "output_type": "stream",
     "text": [
      "/home/pzivich/Documents/open-source/zEpid/zepid/causal/doublyrobust/AIPW.py:400: UserWarning: All missing outcome data is assumed to be missing completely at random. To relax this assumption to outcome data is missing at random please use the `missing_model()` function\n",
      "  \"function\", UserWarning)\n"
     ]
    }
   ],
   "source": [
    "aipw = AIPTW(df, exposure='art', outcome='cd4_wk45')\n",
    "aipw.exposure_model('male + age0 + age_rs1 + age_rs2 + cd40 + cd4_rs1 + cd4_rs2 + dvl0', \n",
    "                    print_results=False)\n",
    "aipw.outcome_model('art + male + age0 + age_rs1 + age_rs2 + cd40 + cd4_rs1 + cd4_rs2 + dvl0',\n",
    "                   continuous_distribution='poisson', print_results=False)\n",
    "aipw.fit()\n",
    "aipw.summary()"
   ]
  },
  {
   "cell_type": "markdown",
   "metadata": {},
   "source": [
    "## Missing Data\n",
    "Similarly, missing outcome data is easy to correct for using inverse probability of censoring weights. Below is an example using `missing_model()`"
   ]
  },
  {
   "cell_type": "code",
   "execution_count": 6,
   "metadata": {},
   "outputs": [
    {
     "name": "stdout",
     "output_type": "stream",
     "text": [
      "======================================================================\n",
      "          Augmented Inverse Probability of Treatment Weights          \n",
      "======================================================================\n",
      "Treatment:        art             No. Observations:     547                 \n",
      "Outcome:          cd4_wk45        No. Missing Outcome:  87                  \n",
      "g-Model:          Logistic        Missing Model:        Logistic            \n",
      "Q-Model:          gaussian       \n",
      "======================================================================\n",
      "Average Treatment Effect:    205.701\n",
      "95.0% two-sided CI: (89.774 , 321.628)\n",
      "======================================================================\n"
     ]
    }
   ],
   "source": [
    "aipw = AIPTW(df, exposure='art', outcome='cd4_wk45')\n",
    "aipw.exposure_model('male + age0 + age_rs1 + age_rs2 + cd40 + cd4_rs1 + cd4_rs2 + dvl0', \n",
    "                    print_results=False)\n",
    "aipw.missing_model('art + male + age0 + age_rs1 + age_rs2 + cd40 + cd4_rs1 + cd4_rs2 + dvl0',\n",
    "                   print_results=False)\n",
    "aipw.outcome_model('art + male + age0 + age_rs1 + age_rs2 + cd40 + cd4_rs1 + cd4_rs2 + dvl0',\n",
    "                   print_results=False)\n",
    "aipw.fit()\n",
    "aipw.summary()"
   ]
  },
  {
   "cell_type": "code",
   "execution_count": 7,
   "metadata": {},
   "outputs": [
    {
     "name": "stdout",
     "output_type": "stream",
     "text": [
      "======================================================================\n",
      "          Augmented Inverse Probability of Treatment Weights          \n",
      "======================================================================\n",
      "Treatment:        art             No. Observations:     547                 \n",
      "Outcome:          cd4_wk45        No. Missing Outcome:  87                  \n",
      "g-Model:          Logistic        Missing Model:        Logistic            \n",
      "Q-Model:          poisson        \n",
      "======================================================================\n",
      "Average Treatment Effect:    207.374\n",
      "95.0% two-sided CI: (91.713 , 323.034)\n",
      "======================================================================\n"
     ]
    }
   ],
   "source": [
    "aipw = AIPTW(df, exposure='art', outcome='cd4_wk45')\n",
    "aipw.exposure_model('male + age0 + age_rs1 + age_rs2 + cd40 + cd4_rs1 + cd4_rs2 + dvl0', \n",
    "                    print_results=False)\n",
    "aipw.missing_model('art + male + age0 + age_rs1 + age_rs2 + cd40 + cd4_rs1 + cd4_rs2 + dvl0',\n",
    "                   print_results=False)\n",
    "aipw.outcome_model('art + male + age0 + age_rs1 + age_rs2 + cd40 + cd4_rs1 + cd4_rs2 + dvl0',\n",
    "                   continuous_distribution='poisson', print_results=False)\n",
    "aipw.fit()\n",
    "aipw.summary()"
   ]
  },
  {
   "cell_type": "markdown",
   "metadata": {},
   "source": [
    "# Conclusion\n",
    "In this tutorial, I demonstrated augmented-IPTW for continuous outcomes with `AIPTW` using *zEpid*. Please view other tutorials for information on other functionality within *zEpid*\n",
    "\n",
    "## References\n",
    "Funk MJ, Westreich D, Wiesen C, Stürmer T, Brookhart MA, Davidian M. (2011). Doubly robust estimation of causal effects. *AJE*, 173(7), 761-767.\n",
    "\n",
    "Lunceford JK, Davidian M. (2004). Stratification and weighting via the propensity score in estimation of causal treatment effects: a comparative study. *SiM*, 23(19), 2937-2960.\n",
    "\n",
    "Keil AP et al. (2018). Resolving an apparent paradox in doubly robust estimators. *AJE*, 187(4), 891-892.\n",
    "\n",
    "Robins JM, Rotnitzky A, Zhao LP. (1994). Estimation of regression coefficients when some regressors are not always observed. *JASA*, 89(427), 846-866."
   ]
  }
 ],
 "metadata": {
  "kernelspec": {
   "display_name": "Python 3",
   "language": "python",
   "name": "python3"
  },
  "language_info": {
   "codemirror_mode": {
    "name": "ipython",
    "version": 3
   },
   "file_extension": ".py",
   "mimetype": "text/x-python",
   "name": "python",
   "nbconvert_exporter": "python",
   "pygments_lexer": "ipython3",
   "version": "3.6.5"
  }
 },
 "nbformat": 4,
 "nbformat_minor": 2
}
