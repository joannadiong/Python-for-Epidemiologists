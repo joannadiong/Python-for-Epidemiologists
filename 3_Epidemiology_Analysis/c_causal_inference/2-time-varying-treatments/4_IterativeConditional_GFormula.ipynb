{
 "cells": [
  {
   "cell_type": "markdown",
   "metadata": {},
   "source": [
    "# Iterative-Conditional G-Formula\n",
    "For longitudinal data, an alternative to the Monte-Carlo g-formula is the iterative conditional g-formula. This expression of the g-formula has some nice features. First, we note that we can rewrite the g-formula from\n",
    "$$E[Y^\\bar{a}] = \\sum_\\bar{l} E[Y_t | \\bar{A}_t = \\bar{a}, \\bar{L_t}] \\times \\prod_{k=0}^{K} \\Pr(L_t = l_t | \\bar{A}_t = \\bar{a}, \\bar{L}_{t-1}) $$\n",
    "as \n",
    "$$E[Y^\\bar{a}] = E[\\dots E[E[Y_t | \\bar{A}_t = \\bar{a}, \\bar{L}_t] | \\bar{A}_{t-1} = \\bar{a}, \\bar{L}_{t-1}] \\dots]$$\n",
    "This different form means we can use a different estimation procedure to obtain an estimate of the counterfactual. Specifically, we see that we need to estimate a series (iterations) of expected values. The main advantage of this approach is that we no longer need to specify regression models *for each* time-varying variable. Rather, we only need to specify outcome models\n",
    "\n",
    "## Estimation Procedure\n",
    "For estimation, we will be working backwards in time. We will start at the inner core of the iterated expectations then work out. Below is a breakdown of the estimation procedure\n",
    "1. Estimate $E[Y_t | \\bar{A}_t = \\bar{a}, L_t]$\n",
    "2. Predict $Q_t$ using the model fit in step 1 and under the counterfactual treatment plan $a^*$\n",
    "3. Estimate $E[Q_t| \\bar{A}_{t-1} = \\bar{a}, L_{t-1}]$\n",
    "4. Predict Q_{t-1} using the model fit in step 3 and under plan $a^*$\n",
    "5. Repeat steps 3-4 until $Q_1$\n",
    "6. Predict the mean outcome for time $t$ as $\\bar{Q}_0 = E[Q_1]$\n",
    "For individuals who have the event prior to time $t$, they do not contribute to the iterative conditional procedure until they are observed in the sample. At the first time they are observed, their observed outcome is used instead of their predicted outcome. Afterwards, predicted outcomes are used for the remainder.\n",
    "\n",
    "In the following example, use a simulated data set that comes with *zEpid*. For our example, we are interested in the time-varying risk of $Y$ under several different treatment strategies. First we will load the longitudinal data."
   ]
  },
  {
   "cell_type": "code",
   "execution_count": 1,
   "metadata": {},
   "outputs": [
    {
     "name": "stdout",
     "output_type": "stream",
     "text": [
      "0.9.0\n"
     ]
    }
   ],
   "source": [
    "import numpy as np\n",
    "import pandas as pd\n",
    "\n",
    "import zepid\n",
    "from zepid import load_longitudinal_data\n",
    "from zepid.causal.gformula import IterativeCondGFormula\n",
    "\n",
    "print(zepid.__version__)"
   ]
  },
  {
   "cell_type": "code",
   "execution_count": 2,
   "metadata": {},
   "outputs": [
    {
     "data": {
      "text/html": [
       "<div>\n",
       "<style scoped>\n",
       "    .dataframe tbody tr th:only-of-type {\n",
       "        vertical-align: middle;\n",
       "    }\n",
       "\n",
       "    .dataframe tbody tr th {\n",
       "        vertical-align: top;\n",
       "    }\n",
       "\n",
       "    .dataframe thead th {\n",
       "        text-align: right;\n",
       "    }\n",
       "</style>\n",
       "<table border=\"1\" class=\"dataframe\">\n",
       "  <thead>\n",
       "    <tr style=\"text-align: right;\">\n",
       "      <th></th>\n",
       "      <th>W</th>\n",
       "      <th>L1</th>\n",
       "      <th>A1</th>\n",
       "      <th>Y1</th>\n",
       "      <th>L2</th>\n",
       "      <th>A2</th>\n",
       "      <th>Y2</th>\n",
       "      <th>L3</th>\n",
       "      <th>A3</th>\n",
       "      <th>Y3</th>\n",
       "      <th>id</th>\n",
       "    </tr>\n",
       "  </thead>\n",
       "  <tbody>\n",
       "    <tr>\n",
       "      <th>0</th>\n",
       "      <td>0.148227</td>\n",
       "      <td>0.500839</td>\n",
       "      <td>0</td>\n",
       "      <td>0</td>\n",
       "      <td>0.588373</td>\n",
       "      <td>1.0</td>\n",
       "      <td>0.0</td>\n",
       "      <td>-0.166033</td>\n",
       "      <td>1.0</td>\n",
       "      <td>1.0</td>\n",
       "      <td>0</td>\n",
       "    </tr>\n",
       "    <tr>\n",
       "      <th>1</th>\n",
       "      <td>0.353487</td>\n",
       "      <td>0.856948</td>\n",
       "      <td>1</td>\n",
       "      <td>0</td>\n",
       "      <td>-1.441675</td>\n",
       "      <td>1.0</td>\n",
       "      <td>0.0</td>\n",
       "      <td>-1.521839</td>\n",
       "      <td>1.0</td>\n",
       "      <td>0.0</td>\n",
       "      <td>1</td>\n",
       "    </tr>\n",
       "    <tr>\n",
       "      <th>2</th>\n",
       "      <td>-1.087250</td>\n",
       "      <td>-1.175678</td>\n",
       "      <td>0</td>\n",
       "      <td>0</td>\n",
       "      <td>0.401431</td>\n",
       "      <td>1.0</td>\n",
       "      <td>0.0</td>\n",
       "      <td>-0.802022</td>\n",
       "      <td>0.0</td>\n",
       "      <td>0.0</td>\n",
       "      <td>2</td>\n",
       "    </tr>\n",
       "    <tr>\n",
       "      <th>3</th>\n",
       "      <td>0.247096</td>\n",
       "      <td>-1.334343</td>\n",
       "      <td>0</td>\n",
       "      <td>0</td>\n",
       "      <td>-0.428034</td>\n",
       "      <td>0.0</td>\n",
       "      <td>0.0</td>\n",
       "      <td>-0.092409</td>\n",
       "      <td>0.0</td>\n",
       "      <td>0.0</td>\n",
       "      <td>3</td>\n",
       "    </tr>\n",
       "    <tr>\n",
       "      <th>4</th>\n",
       "      <td>-0.156840</td>\n",
       "      <td>0.768438</td>\n",
       "      <td>1</td>\n",
       "      <td>0</td>\n",
       "      <td>-0.519126</td>\n",
       "      <td>1.0</td>\n",
       "      <td>0.0</td>\n",
       "      <td>-1.125145</td>\n",
       "      <td>1.0</td>\n",
       "      <td>0.0</td>\n",
       "      <td>4</td>\n",
       "    </tr>\n",
       "  </tbody>\n",
       "</table>\n",
       "</div>"
      ],
      "text/plain": [
       "          W        L1  A1  Y1        L2   A2   Y2        L3   A3   Y3  id\n",
       "0  0.148227  0.500839   0   0  0.588373  1.0  0.0 -0.166033  1.0  1.0   0\n",
       "1  0.353487  0.856948   1   0 -1.441675  1.0  0.0 -1.521839  1.0  0.0   1\n",
       "2 -1.087250 -1.175678   0   0  0.401431  1.0  0.0 -0.802022  0.0  0.0   2\n",
       "3  0.247096 -1.334343   0   0 -0.428034  0.0  0.0 -0.092409  0.0  0.0   3\n",
       "4 -0.156840  0.768438   1   0 -0.519126  1.0  0.0 -1.125145  1.0  0.0   4"
      ]
     },
     "execution_count": 2,
     "metadata": {},
     "output_type": "execute_result"
    }
   ],
   "source": [
    "df = load_longitudinal_data()\n",
    "df.head()"
   ]
  },
  {
   "cell_type": "markdown",
   "metadata": {},
   "source": [
    "Note that this data is set up different from the data for `MonteCarloGFormula`. Instead, each row corresponds to a single individual, with columns for time-varying variables being indicated by numbers. This data format is referred to as a wide-format. The input data for `IterativeCondGFormula` must be this format. The wide-format allows specification of complex treatments and varying models.\n",
    "\n",
    "## Initialize the g-formula\n",
    "Now that our data is loaded, we will initialize the iterative-conditional g-formula. Instead of passing a single string object to the `exposures` and `outcomes` argument, we instead provide a list of strings correspond to our exposure and outcome columns. Not that the order of these columns is forward in time"
   ]
  },
  {
   "cell_type": "code",
   "execution_count": 3,
   "metadata": {},
   "outputs": [],
   "source": [
    "icgf = IterativeCondGFormula(df, \n",
    "                             exposures=['A1', 'A2', 'A3'], \n",
    "                             outcomes=['Y1', 'Y2', 'Y3'])"
   ]
  },
  {
   "cell_type": "markdown",
   "metadata": {},
   "source": [
    "This g-formula implementation will estimate the marginal outcome at the third time point ($E[Y_{t=3}^\\bar{a}]$). For estimation at other time-points, we will need to modify the g-formula (which we will do later)\n",
    "\n",
    "## Outcome Models\n",
    "Our next step is to specify the outcome models. Again, we will pass a list of `patsy` regression models with time going forward. Note, that the treatment options can be added to each time point. In our data, we will assume the outcome only depends on the current treatment and the treatment from the prior time period"
   ]
  },
  {
   "cell_type": "code",
   "execution_count": 4,
   "metadata": {},
   "outputs": [],
   "source": [
    "# Specifying regression models for each treatment-outcome pair\n",
    "icgf.outcome_model(models=['A1 + L1',\n",
    "                           'A2 + A1 + L2',\n",
    "                           'A3 + A2 + L3'],\n",
    "                   print_results=True)"
   ]
  },
  {
   "cell_type": "markdown",
   "metadata": {},
   "source": [
    "These models will not be fit until `fit()` is called. They will be stored in the background\n",
    "\n",
    "## Estimation\n",
    "We can now estimate $E[Y_{t=3}^{\\bar{a}}]$. We will begin by specifying that $\\bar{a} = \\{1, 1, 1\\}$, or the always-treat counterfactual. Below is code to estimate this"
   ]
  },
  {
   "cell_type": "code",
   "execution_count": 5,
   "metadata": {},
   "outputs": [
    {
     "name": "stdout",
     "output_type": "stream",
     "text": [
      "==============================================================================\n",
      "Sequential Outcome Model\n",
      "                 Generalized Linear Model Regression Results                  \n",
      "==============================================================================\n",
      "Dep. Variable:                     Y3   No. Observations:                  591\n",
      "Model:                            GLM   Df Residuals:                      587\n",
      "Model Family:                Binomial   Df Model:                            3\n",
      "Link Function:                  logit   Scale:                          1.0000\n",
      "Method:                          IRLS   Log-Likelihood:                -254.00\n",
      "Date:                Wed, 30 Dec 2020   Deviance:                       508.00\n",
      "Time:                        08:09:04   Pearson chi2:                     584.\n",
      "No. Iterations:                     5                                         \n",
      "Covariance Type:            nonrobust                                         \n",
      "==============================================================================\n",
      "                 coef    std err          z      P>|z|      [0.025      0.975]\n",
      "------------------------------------------------------------------------------\n",
      "Intercept     -1.2584      0.233     -5.397      0.000      -1.715      -0.801\n",
      "A3            -0.5267      0.253     -2.084      0.037      -1.022      -0.031\n",
      "A2             0.6596      0.270      2.446      0.014       0.131       1.188\n",
      "L3             0.6553      0.107      6.136      0.000       0.446       0.865\n",
      "==============================================================================\n",
      "==============================================================================\n",
      "==============================================================================\n",
      "Sequential Outcome Model\n",
      "                 Generalized Linear Model Regression Results                  \n",
      "==============================================================================\n",
      "Dep. Variable:                     Y2   No. Observations:                  739\n",
      "Model:                            GLM   Df Residuals:                      735\n",
      "Model Family:                Binomial   Df Model:                            3\n",
      "Link Function:                  logit   Scale:                          1.0000\n",
      "Method:                          IRLS   Log-Likelihood:                -359.76\n",
      "Date:                Wed, 30 Dec 2020   Deviance:                       374.44\n",
      "Time:                        08:09:04   Pearson chi2:                     348.\n",
      "No. Iterations:                     4                                         \n",
      "Covariance Type:            nonrobust                                         \n",
      "==============================================================================\n",
      "                 coef    std err          z      P>|z|      [0.025      0.975]\n",
      "------------------------------------------------------------------------------\n",
      "Intercept      0.0514      0.158      0.325      0.745      -0.258       0.361\n",
      "A2            -0.8078      0.237     -3.412      0.001      -1.272      -0.344\n",
      "A1             0.3113      0.215      1.445      0.149      -0.111       0.734\n",
      "L2             0.6430      0.080      8.018      0.000       0.486       0.800\n",
      "==============================================================================\n",
      "==============================================================================\n",
      "==============================================================================\n",
      "Sequential Outcome Model\n",
      "                 Generalized Linear Model Regression Results                  \n",
      "==============================================================================\n",
      "Dep. Variable:                     Y1   No. Observations:                 1000\n",
      "Model:                            GLM   Df Residuals:                      997\n",
      "Model Family:                Binomial   Df Model:                            2\n",
      "Link Function:                  logit   Scale:                          1.0000\n",
      "Method:                          IRLS   Log-Likelihood:                -510.14\n",
      "Date:                Wed, 30 Dec 2020   Deviance:                       450.53\n",
      "Time:                        08:09:04   Pearson chi2:                     366.\n",
      "No. Iterations:                     4                                         \n",
      "Covariance Type:            nonrobust                                         \n",
      "==============================================================================\n",
      "                 coef    std err          z      P>|z|      [0.025      0.975]\n",
      "------------------------------------------------------------------------------\n",
      "Intercept      0.3079      0.101      3.055      0.002       0.110       0.505\n",
      "A1            -0.5930      0.156     -3.791      0.000      -0.900      -0.286\n",
      "L1             0.5103      0.059      8.589      0.000       0.394       0.627\n",
      "==============================================================================\n",
      "==============================================================================\n",
      "0.433469589693946\n"
     ]
    }
   ],
   "source": [
    "# Estimating marginal ‘Y3’ under treat-all at every time\n",
    "icgf.fit(treatments=[1, 1, 1])\n",
    "print(icgf.marginal_outcome)"
   ]
  },
  {
   "cell_type": "markdown",
   "metadata": {},
   "source": [
    "I have the regression models display their output for this example. As you can see, each successive model has additional observations. This follows what I said in the introduction, with regards to individuals who were censored or had the event prior to that time point. Those individuals do not factor into the models until they are observed\n",
    "\n",
    "We can also specify different treatments. For example, we may imagine that treatment $A$ is only provided at the initial time ($t=1$) and never again after that. Below is code to estimate this counterfactual"
   ]
  },
  {
   "cell_type": "code",
   "execution_count": 6,
   "metadata": {},
   "outputs": [
    {
     "name": "stdout",
     "output_type": "stream",
     "text": [
      "0.5466511436458725\n"
     ]
    }
   ],
   "source": [
    "icgf.outcome_model(models=['A1 + L1',\n",
    "                           'A2 + A1 + L2',\n",
    "                           'A3 + A2 + L3'],\n",
    "                   print_results=False)\n",
    "icgf.fit(treatments=[1, 0, 0])\n",
    "print(icgf.marginal_outcome)"
   ]
  },
  {
   "cell_type": "markdown",
   "metadata": {},
   "source": [
    "Or we can estimate only treating at $t=2$"
   ]
  },
  {
   "cell_type": "code",
   "execution_count": 7,
   "metadata": {},
   "outputs": [
    {
     "name": "stdout",
     "output_type": "stream",
     "text": [
      "0.5650101131697806\n"
     ]
    }
   ],
   "source": [
    "icgf.fit(treatments=[0, 1, 0])\n",
    "print(icgf.marginal_outcome)"
   ]
  },
  {
   "cell_type": "markdown",
   "metadata": {},
   "source": [
    "Under this format, we can estimate a multitude of different interventions. For confidence intervals, a bootstrapping procedure should be used. \n",
    "\n",
    "But how do you estimate at different time points? For example, we now want to estimate $E[Y_{t=2}^{\\bar{a}}]$. We do this by re-specifying the iterative conditional g-formula, but only include the first two columns for our treatment and outcome. Below is code to estimate $E[Y_{t=2}^{\\bar{a}}]$, where $\\bar{a} = \\{1, 1\\}$"
   ]
  },
  {
   "cell_type": "code",
   "execution_count": 8,
   "metadata": {},
   "outputs": [
    {
     "name": "stdout",
     "output_type": "stream",
     "text": [
      "0.3496200889449614\n"
     ]
    }
   ],
   "source": [
    "icgf = IterativeCondGFormula(df, exposures=['A1', 'A2'], outcomes=['Y1', 'Y2'])\n",
    "icgf.outcome_model(models=['A1 + L1',\n",
    "                           'A2 + A1 + L2'],\n",
    "                   print_results=False)\n",
    "icgf.fit(treatments=[1, 1])\n",
    "print(icgf.marginal_outcome)"
   ]
  },
  {
   "cell_type": "markdown",
   "metadata": {},
   "source": [
    "We can repeat a similar process for $E[Y_{t=1}^{\\bar{a}}]$. This should give the same results as `TimeFixedGFormula`, since the estimation procedure becomes the same in the scenario of a single $t$"
   ]
  },
  {
   "cell_type": "code",
   "execution_count": 9,
   "metadata": {},
   "outputs": [
    {
     "name": "stdout",
     "output_type": "stream",
     "text": [
      "Iterative-Conditional:\t 0.228307987340576\n",
      "Time-Fixed:\t\t 0.228307987340576\n"
     ]
    }
   ],
   "source": [
    "icgf = IterativeCondGFormula(df, exposures=['A1'], outcomes=['Y1'])\n",
    "icgf.outcome_model(models=['A1 + L1'],\n",
    "                   print_results=False)\n",
    "icgf.fit(treatments=[1])\n",
    "print(\"Iterative-Conditional:\\t\", icgf.marginal_outcome)\n",
    "\n",
    "# Demonstrating equivalence\n",
    "from zepid.causal.gformula import TimeFixedGFormula\n",
    "g = TimeFixedGFormula(df[['L1', 'A1', 'Y1']], exposure='A1', outcome='Y1')\n",
    "g.outcome_model(model='A1 + L1', print_results=False)\n",
    "g.fit(treatment='all')\n",
    "print(\"Time-Fixed:\\t\\t\", g.marginal_outcome)"
   ]
  },
  {
   "cell_type": "markdown",
   "metadata": {},
   "source": [
    "# Conclusion\n",
    "In this tutorial, I discussed the iterative conditional estimation procedure for the parametric g-formula. I detailed the use of `IterativeCondGFormula`. Please view other tutorials for further information on other functions in zEpid\n",
    "\n",
    "## Further Readings\n",
    "Kreif N et al. (2017). Estimating the comparative effectiveness of feeding interventions in the pediatric intensive care unit: a demonstration of longitudinal targeted maximum likelihood estimation. *American Journal of Epidemiology*, 186(12), 1370-1379"
   ]
  }
 ],
 "metadata": {
  "kernelspec": {
   "display_name": "Python 3",
   "language": "python",
   "name": "python3"
  },
  "language_info": {
   "codemirror_mode": {
    "name": "ipython",
    "version": 3
   },
   "file_extension": ".py",
   "mimetype": "text/x-python",
   "name": "python",
   "nbconvert_exporter": "python",
   "pygments_lexer": "ipython3",
   "version": "3.6.5"
  }
 },
 "nbformat": 4,
 "nbformat_minor": 2
}
