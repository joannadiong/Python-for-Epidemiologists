{
 "cells": [
  {
   "cell_type": "markdown",
   "metadata": {},
   "source": [
    "# Measures\n",
    "This tutorial describes some of the basic measures used in epidemiology. For the purpose of this tutorial, we will refer to these measures as measures of association, since we will not believe that these observation measures reflect measure of effect. \n",
    "\n",
    "In the following example, we will use a sample data set included with *zEpid*. We will be interested in antiretroviral therapy (``art``) on all-cause mortality (``dead``). This data set will be referred to throughout the remainder of the guide. The specific measures of association we will calculate will refer to the measure at 45-weeks. We will defined ``art`` as $A$ where $A=1$ for treated with ART and $A=0$ for not treated with ART, and ``dead`` as $Y$ where $Y=1$ is died by 45-weeks and $Y=0$ is survived until 45-weeks. $\\Pr(.)$ denotes the probability function, with $\\Pr(C|D)$ as the conditional probability of $C$ given $D$, and $\\hat{\\Pr}(.)$ is the estimated probability"
   ]
  },
  {
   "cell_type": "code",
   "execution_count": 1,
   "metadata": {},
   "outputs": [
    {
     "name": "stdout",
     "output_type": "stream",
     "text": [
      "<class 'pandas.core.frame.DataFrame'>\n",
      "Int64Index: 547 entries, 0 to 546\n",
      "Data columns (total 9 columns):\n",
      "id          547 non-null int64\n",
      "male        547 non-null int64\n",
      "age0        547 non-null int64\n",
      "cd40        547 non-null int64\n",
      "dvl0        547 non-null int64\n",
      "art         547 non-null int64\n",
      "dead        517 non-null float64\n",
      "t           547 non-null float64\n",
      "cd4_wk45    460 non-null float64\n",
      "dtypes: float64(3), int64(6)\n",
      "memory usage: 42.7 KB\n"
     ]
    }
   ],
   "source": [
    "from zepid import load_sample_data\n",
    "\n",
    "df = load_sample_data(timevary=False)\n",
    "df.info()"
   ]
  },
  {
   "cell_type": "markdown",
   "metadata": {},
   "source": [
    "As you can see, there are 30 missing the ``dead`` variable. We will ignore missing data throughout this tutorial. For how to deal with missing data, please refer to the guide on inverse probability of missing weights\n",
    "\n",
    "## Risk Ratio\n",
    "First we will calculate the risk ratio. The risk ratio is defined as\n",
    "\n",
    "$$\\widehat{RR} = \\frac{\\widehat{\\Pr}(Y=1|A=1)}{\\widehat{\\Pr}(Y=1|A=0)}$$\n",
    "\n",
    "To calculate this quantity in *zEpid* we will use the following code"
   ]
  },
  {
   "cell_type": "code",
   "execution_count": 2,
   "metadata": {},
   "outputs": [
    {
     "name": "stdout",
     "output_type": "stream",
     "text": [
      "Comparison:0 to 1\n",
      "+-----+-------+-------+\n",
      "|     |   D=1 |   D=0 |\n",
      "+=====+=======+=======+\n",
      "| E=1 |    10 |    67 |\n",
      "+-----+-------+-------+\n",
      "| E=0 |    77 |   363 |\n",
      "+-----+-------+-------+ \n",
      "\n",
      "======================================================================\n",
      "                            Risk Ratio                                \n",
      "======================================================================\n",
      "        Risk  SD(Risk)  Risk_LCL  Risk_UCL\n",
      "Ref:0  0.175     0.018     0.139     0.211\n",
      "1      0.130     0.038     0.055     0.205\n",
      "----------------------------------------------------------------------\n",
      "       RiskRatio  SD(RR)  RR_LCL  RR_UCL\n",
      "Ref:0      1.000     NaN     NaN     NaN\n",
      "1          0.742   0.313   0.402    1.37\n",
      "----------------------------------------------------------------------\n",
      "Missing E:    0\n",
      "Missing D:    30\n",
      "Missing E&D:  0\n",
      "======================================================================\n"
     ]
    }
   ],
   "source": [
    "from zepid import RiskRatio\n",
    "\n",
    "rr = RiskRatio()\n",
    "rr.fit(df, exposure='art', outcome='dead')\n",
    "rr.summary()  # Prints the summary data"
   ]
  },
  {
   "cell_type": "markdown",
   "metadata": {},
   "source": [
    "From the corresponding output, we see that the 45-week risk of all-cause among those given ART was 0.74 (95% CL: 0.40, 1.4) times that of those not given ART. In addition, the output provides a table, the risks by exposure, and a count of missing data\n",
    "\n",
    "## Risk Difference\n",
    "Similarly, we can calculate the risk difference as \n",
    "\n",
    "$$\\widehat{RD} = \\widehat{\\Pr}(Y=1|A=1) - \\widehat{\\Pr}(Y=1|A=0)$$\n",
    "\n",
    "To calculate the risk difference, we use the following code"
   ]
  },
  {
   "cell_type": "code",
   "execution_count": 3,
   "metadata": {},
   "outputs": [
    {
     "name": "stdout",
     "output_type": "stream",
     "text": [
      "Comparison:0 to 1\n",
      "+-----+-------+-------+\n",
      "|     |   D=1 |   D=0 |\n",
      "+=====+=======+=======+\n",
      "| E=1 |    10 |    67 |\n",
      "+-----+-------+-------+\n",
      "| E=0 |    77 |   363 |\n",
      "+-----+-------+-------+ \n",
      "\n",
      "======================================================================\n",
      "                            Risk Ratio                                \n",
      "======================================================================\n",
      "        Risk  SD(Risk)  Risk_LCL  Risk_UCL\n",
      "Ref:0  0.175     0.018     0.139     0.211\n",
      "1      0.130     0.038     0.055     0.205\n",
      "----------------------------------------------------------------------\n",
      "       RiskDifference  SD(RD)  RD_LCL  RD_UCL\n",
      "Ref:0           0.000     NaN     NaN     NaN\n",
      "1              -0.045   0.042  -0.128   0.038\n",
      "----------------------------------------------------------------------\n",
      "       RiskDifference    CLD  LowerBound  UpperBound\n",
      "Ref:0           0.000    NaN         NaN         NaN\n",
      "1              -0.045  0.166       -0.87        0.13\n",
      "----------------------------------------------------------------------\n",
      "Missing E:    0\n",
      "Missing D:    30\n",
      "Missing E&D:  0\n",
      "======================================================================\n"
     ]
    }
   ],
   "source": [
    "from zepid import RiskDifference\n",
    "\n",
    "rd = RiskDifference()\n",
    "rd.fit(df, exposure='art', outcome='dead')\n",
    "rd.summary()  # Prints the summary data"
   ]
  },
  {
   "cell_type": "markdown",
   "metadata": {},
   "source": [
    "The 45-week risk of all-cause mortality among those given ART was -4.5 percentage points (95% CL: -12.8, 4.8) compared to those not treated with ART. Again, we can see the two-by-two table, corresponding risk estimates, and information on missing data\n",
    "\n",
    "You may have noticed that `RiskDifference` produces some additional output. Specifically, it generates something called `LowerBound` and `UpperBound`. These are the Frechet probability bounds. Their width will always be 1, but they are useful conceptually. These bounds containing the true risk difference, *without needing the exchangeability assumption*. They do assume no measurement error and causal consistency\n",
    "\n",
    "## Odds Ratio\n",
    "The odds ratio is defined as\n",
    "\n",
    "$$\\widehat{OR} = \\frac{\\frac{\\widehat{\\Pr}(Y=1|A=1)}{\\widehat{\\Pr}(Y=0|A=1)}}{\\frac{\\widehat{\\Pr}(Y=1|A=0)}{\\widehat{\\Pr}(Y=0|A=0)}}$$\n",
    "\n",
    "To calculate the odds ratio, we use the following code"
   ]
  },
  {
   "cell_type": "code",
   "execution_count": 4,
   "metadata": {},
   "outputs": [
    {
     "name": "stdout",
     "output_type": "stream",
     "text": [
      "Comparison:0 to 1\n",
      "+-----+-------+-------+\n",
      "|     |   D=1 |   D=0 |\n",
      "+=====+=======+=======+\n",
      "| E=1 |    10 |    67 |\n",
      "+-----+-------+-------+\n",
      "| E=0 |    77 |   363 |\n",
      "+-----+-------+-------+ \n",
      "\n",
      "======================================================================\n",
      "                           Odds Ratio                                 \n",
      "======================================================================\n",
      "       OddsRatio  SD(OR)  OR_LCL  OR_UCL\n",
      "Ref:0      1.000     NaN     NaN     NaN\n",
      "1          0.704   0.361   0.346   1.429\n",
      "----------------------------------------------------------------------\n",
      "Missing E:    0\n",
      "Missing D:    30\n",
      "Missing E&D:  0\n",
      "======================================================================\n"
     ]
    }
   ],
   "source": [
    "from zepid import OddsRatio\n",
    "\n",
    "oddr = OddsRatio()\n",
    "oddr.fit(df, exposure='art', outcome='dead')\n",
    "oddr.summary()  # Prints the summary data"
   ]
  },
  {
   "cell_type": "markdown",
   "metadata": {},
   "source": [
    "The 45-weeks odds of all-cause mortality among those treated with ART was 0.70 (95% CL: 0.35, 1.43) times that of those not treated with ART.\n",
    "\n",
    "## Number Needed to Treat\n",
    "Number needed to treat (NNT) is a specialized measure that is meant to be more interpretable. This measure is different from the above specifically because it implies a causal effect. For the purposes of this tutorial, we will proceed with the calculation. However, in practice you would need to believe that your association is truly causation. To calculate the NNT, you take the inverse of the risk difference\n",
    "\n",
    "$$\\widehat{NNT} = \\widehat{RD}^{-1} = \\left(\\widehat{\\Pr}(Y=1|A=1) - \\widehat{\\Pr}(Y=1|A=0)\\right)^{-1}$$\n",
    "\n",
    "To calculate the NNT, we use the following code"
   ]
  },
  {
   "cell_type": "code",
   "execution_count": 5,
   "metadata": {},
   "outputs": [
    {
     "name": "stdout",
     "output_type": "stream",
     "text": [
      "======================================================================\n",
      "                     Number Needed to Treat/Harm                      \n",
      "======================================================================\n",
      "Number Needed to Treat:  22.158\n",
      "----------------------------------------------------------------------\n",
      "95.0% two-sided CI: \n",
      "NNT  7.801 to infinity to NNH  26.368\n",
      "----------------------------------------------------------------------\n",
      "Missing E:    0\n",
      "Missing D:    30\n",
      "Missing E&D:  0\n",
      "======================================================================\n"
     ]
    }
   ],
   "source": [
    "from zepid import NNT\n",
    "\n",
    "nnt = NNT()\n",
    "nnt.fit(df, exposure='art', outcome='dead')\n",
    "nnt.summary()"
   ]
  },
  {
   "cell_type": "markdown",
   "metadata": {},
   "source": [
    "To prevent one death by 45-weeks, I would need to treat 23 individuals with ART. Notice that this interpretation inherently implies a causal effect. As such, NNT should be restricted to scenarios where you believe the association is actually causation (see the parts of the guide on causal inference).\n",
    "\n",
    "In the above outcome, you will note that the confidence interval goes from NNT 7.80 to infinity to NNH (number needed to harm) 26.47. This confidence interval occurs because the risk difference crosses the null value ($RD=0$). *zEpid* produces confidence intervals as advocated by the late Douglas Altman (Altman, DG. BMJ 1998). Infinity occurs because at a risk difference of zero, the NNT becomes $\\frac{1}{0}$. \n",
    "\n",
    "## Incidence Rate Ratio\n",
    "In the previous measures, the denominator has been some form of person counts. For incidence rates, the denominator becomes the person-time contributed. In this example, we will go through the incidence rate ratio. The incidence ratio ratio is defined as \n",
    "\n",
    "$$\\widehat{IRR} = \\frac{\\frac{a}{T_1}}{\\frac{b}{T_0}}$$\n",
    "\n",
    "where $a$ is the number of individuals given ART and died, $T_1$ is the person-time contributed by individuals treated with ART, $b$ is the number of individuals not given ART and died, and $T_0$ is the person-time contributed by individuals not treated with ART. The incidence rate ratio assumes that hazards follow an exponential distribution, meaning they are constant over time. This assumption may be more or less reasonable. If unreasonable, survival analysis methods like Kaplan-Meier, used be instead.\n",
    "\n",
    "To calculate the incidence rate ratio, we use the following code"
   ]
  },
  {
   "cell_type": "code",
   "execution_count": 6,
   "metadata": {},
   "outputs": [
    {
     "name": "stdout",
     "output_type": "stream",
     "text": [
      "Comparison:0 to 1\n",
      "+-----+-------+---------------+\n",
      "|     |   D=1 |   Person-time |\n",
      "+=====+=======+===============+\n",
      "| E=1 |    10 |       3094.05 |\n",
      "+-----+-------+---------------+\n",
      "| E=0 |    77 |      17962.4  |\n",
      "+-----+-------+---------------+ \n",
      "\n",
      "======================================================================\n",
      "                      Incidence Rate Ratio                            \n",
      "======================================================================\n",
      "       IncRate  SD(IncRate)  IncRate_LCL  IncRate_UCL\n",
      "Ref:0    0.004        0.000        0.003        0.005\n",
      "1        0.003        0.001        0.001        0.005\n",
      "----------------------------------------------------------------------\n",
      "       IncRateRatio  SD(IRR)  IRR_LCL  IRR_UCL\n",
      "Ref:0         1.000      NaN      NaN      NaN\n",
      "1             0.754    0.336     0.39    1.457\n",
      "----------------------------------------------------------------------\n",
      "Missing E:    0\n",
      "Missing D:    30\n",
      "Missing E&D:  0\n",
      "Missing T:    0\n",
      "======================================================================\n"
     ]
    }
   ],
   "source": [
    "from zepid import IncidenceRateRatio\n",
    "\n",
    "irr = IncidenceRateRatio()\n",
    "irr.fit(df, exposure='art', outcome='dead', time='t')\n",
    "irr.summary()"
   ]
  },
  {
   "cell_type": "markdown",
   "metadata": {},
   "source": [
    "Notice that incidence rate ratio additionally requires the ``time`` argument which is the variable. This variable is the person time contributed by person $i$.\n",
    "\n",
    "## Incidence Rate Difference\n",
    "Similarly, the incidence rate difference is defined in terms of person-time as well. It is defined as \n",
    "\n",
    "$$\\widehat{IRD} = \\frac{a}{T_1} - \\frac{b}{T_0}$$\n",
    "\n",
    "To calculate the incidence rate difference, we use the following code"
   ]
  },
  {
   "cell_type": "code",
   "execution_count": 7,
   "metadata": {},
   "outputs": [
    {
     "name": "stdout",
     "output_type": "stream",
     "text": [
      "Comparison:0 to 1\n",
      "+-----+-------+---------------+\n",
      "|     |   D=1 |   Person-time |\n",
      "+=====+=======+===============+\n",
      "| E=1 |    10 |       3094.05 |\n",
      "+-----+-------+---------------+\n",
      "| E=0 |    77 |      17962.4  |\n",
      "+-----+-------+---------------+ \n",
      "\n",
      "======================================================================\n",
      "                    Incidence Rate Difference                         \n",
      "======================================================================\n",
      "       IncRate  SD(IncRate)  IncRate_LCL  IncRate_UCL\n",
      "Ref:0    0.004        0.000        0.003        0.005\n",
      "1        0.003        0.001        0.001        0.005\n",
      "----------------------------------------------------------------------\n",
      "       IncRateDiff  SD(IRD)  IRD_LCL  IRD_UCL\n",
      "Ref:0        0.000      NaN      NaN      NaN\n",
      "1           -0.001    0.001   -0.003    0.001\n",
      "----------------------------------------------------------------------\n",
      "Missing E:    0\n",
      "Missing D:    30\n",
      "Missing E&D:  0\n",
      "Missing T:    0\n",
      "======================================================================\n"
     ]
    }
   ],
   "source": [
    "from zepid import IncidenceRateDifference\n",
    "\n",
    "ird = IncidenceRateDifference()\n",
    "ird.fit(df, exposure='art', outcome='dead', time='t')\n",
    "ird.summary()"
   ]
  },
  {
   "cell_type": "markdown",
   "metadata": {},
   "source": [
    "## Conclusion\n",
    "In this tutorial I demonstrated the calculation of several common epidemiology measures. This concludes the tutorial on measures. Please view other tutorials for more information on functions in *zEpid*"
   ]
  }
 ],
 "metadata": {
  "kernelspec": {
   "display_name": "Python 3",
   "language": "python",
   "name": "python3"
  },
  "language_info": {
   "codemirror_mode": {
    "name": "ipython",
    "version": 3
   },
   "file_extension": ".py",
   "mimetype": "text/x-python",
   "name": "python",
   "nbconvert_exporter": "python",
   "pygments_lexer": "ipython3",
   "version": "3.6.3"
  }
 },
 "nbformat": 4,
 "nbformat_minor": 2
}
